{
  "nbformat": 4,
  "nbformat_minor": 0,
  "metadata": {
    "colab": {
      "provenance": []
    },
    "kernelspec": {
      "name": "python3",
      "display_name": "Python 3"
    },
    "language_info": {
      "name": "python"
    }
  },
  "cells": [
    {
      "cell_type": "markdown",
      "source": [
        "#Predição de ataques cardíacos\n",
        "####Este é um projeto de analise de um conjunto de dados que contem informações pessoais, dados de saúde e habitos de pessoas aleatorias. O objetivo deste estudo é criar um algoritimo de machine learning onde ao informar seus dados, você terá como retorno, se você tem ou não riscos de ter um ataque cardíaco."
      ],
      "metadata": {
        "id": "Ps86tmEXl-pW"
      }
    },
    {
      "cell_type": "markdown",
      "source": [
        "##Carregando as bibliotecas"
      ],
      "metadata": {
        "id": "LtXTUmK2lY2N"
      }
    },
    {
      "cell_type": "code",
      "execution_count": 24,
      "metadata": {
        "id": "ssY-gA2r8Py7"
      },
      "outputs": [],
      "source": [
        "import pandas as pd\n",
        "import numpy as np\n",
        "import seaborn as sns\n",
        "import matplotlib.pyplot as plt\n",
        "from sklearn.tree import plot_tree\n",
        "from sklearn.tree import DecisionTreeClassifier"
      ]
    },
    {
      "cell_type": "markdown",
      "source": [
        "##Carregando o Data Frame"
      ],
      "metadata": {
        "id": "WQCfpwDZIYJM"
      }
    },
    {
      "cell_type": "code",
      "source": [
        "df_ha = pd.read_csv('heart_attack_prediction_dataset.csv',index_col=0)\n",
        "df_ha.reset_index(inplace= True)"
      ],
      "metadata": {
        "id": "CAT5JHkJIcZU"
      },
      "execution_count": 25,
      "outputs": []
    },
    {
      "cell_type": "markdown",
      "source": [
        "##Tratamento inicial dos dados e retirada dos dados faltantes caso haja"
      ],
      "metadata": {
        "id": "FMlQHpzhIe3k"
      }
    },
    {
      "cell_type": "markdown",
      "source": [
        "Retirando do Data Frame **df_ha** as colunas que eu não considero importantes para o estudo"
      ],
      "metadata": {
        "id": "TGAG2OjzIhUM"
      }
    },
    {
      "cell_type": "code",
      "source": [
        "df_ha.drop(['Country','Continent','Hemisphere','Income','Physical Activity Days Per Week','Patient ID','Sedentary Hours Per Day'],axis = 1, inplace= True)"
      ],
      "metadata": {
        "id": "trmPa2RtIioE"
      },
      "execution_count": 26,
      "outputs": []
    },
    {
      "cell_type": "markdown",
      "source": [
        "Renomeando as colunas do Data Frame"
      ],
      "metadata": {
        "id": "Ep28IcoWIk61"
      }
    },
    {
      "cell_type": "code",
      "source": [
        "df_ha.rename({'Age':'Idade','Sex':'Sexo','Cholesterol':'Colesterol','Blood Pressure':'Pressao Sanguinea','Heart Rate':'Frequencia Cardiaca','Family History':'Historico Familiar','Smoking':'Fumante','Obesity':'Obeso','Alcohol Consumption':'Consome Alcool',\n",
        "              'Exercise Hours Per Week':'Horas de Exercicio Por Semana','Diet':'Estilo de Dieta','Previous Heart Problems':'Problemas Cardiacos Anteriores','Medication Use':'Usa medicamentos','Stress Level':'Nivel de Stress',\n",
        "              'BMI':'IMC','Triglycerides':'Triglicerides','Sleep Hours Per Day':'Horas de Sono Por Dia','Heart Attack Risk':'Risco de Ataque Cardiaco'}, axis = 1, inplace = True)"
      ],
      "metadata": {
        "id": "-tQawdbxIlu8"
      },
      "execution_count": 27,
      "outputs": []
    },
    {
      "cell_type": "markdown",
      "source": [
        "Verificando se há dados faltantes no Data Frame"
      ],
      "metadata": {
        "id": "l9xo98yRIpY8"
      }
    },
    {
      "cell_type": "code",
      "source": [
        "df_ha.isna().sum()"
      ],
      "metadata": {
        "id": "4ldPvj1zIpG0"
      },
      "execution_count": null,
      "outputs": []
    },
    {
      "cell_type": "markdown",
      "source": [
        "Como não há nenhuma coluna faltando dados, nosso Data Frame ficou da seguinte forma"
      ],
      "metadata": {
        "id": "jSOn71rsIsVk"
      }
    },
    {
      "cell_type": "code",
      "source": [
        "df_ha.head()"
      ],
      "metadata": {
        "id": "AZpZ16L4IsvU"
      },
      "execution_count": null,
      "outputs": []
    }
  ]
}