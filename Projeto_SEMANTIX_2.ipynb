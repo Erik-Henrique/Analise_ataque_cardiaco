{
  "nbformat": 4,
  "nbformat_minor": 0,
  "metadata": {
    "colab": {
      "provenance": []
    },
    "kernelspec": {
      "name": "python3",
      "display_name": "Python 3"
    },
    "language_info": {
      "name": "python"
    }
  },
  "cells": [
    {
      "cell_type": "markdown",
      "source": [
        "#Predição de ataques cardíacos\n",
        "####Este é um projeto de analise de um conjunto de dados que contem informações pessoais, dados de saúde e habitos de pessoas aleatorias. O objetivo deste estudo é criar um algoritimo de machine learning onde ao informar seus dados, você terá como retorno, se você tem ou não riscos de ter um ataque cardíaco."
      ],
      "metadata": {
        "id": "Ps86tmEXl-pW"
      }
    },
    {
      "cell_type": "markdown",
      "source": [
        "##Carregando as bibliotecas"
      ],
      "metadata": {
        "id": "LtXTUmK2lY2N"
      }
    },
    {
      "cell_type": "code",
      "execution_count": 30,
      "metadata": {
        "id": "ssY-gA2r8Py7"
      },
      "outputs": [],
      "source": [
        "import pandas as pd\n",
        "import numpy as np\n",
        "import seaborn as sns\n",
        "import matplotlib.pyplot as plt\n",
        "from sklearn.tree import plot_tree\n",
        "from sklearn.tree import DecisionTreeClassifier"
      ]
    },
    {
      "cell_type": "markdown",
      "source": [
        "##Carregando o Data Frame"
      ],
      "metadata": {
        "id": "WQCfpwDZIYJM"
      }
    },
    {
      "cell_type": "code",
      "source": [
        "df_ha = pd.read_csv('heart_attack_prediction_dataset.csv',index_col=0)\n",
        "df_ha.reset_index(inplace= True)"
      ],
      "metadata": {
        "id": "CAT5JHkJIcZU"
      },
      "execution_count": 31,
      "outputs": []
    },
    {
      "cell_type": "markdown",
      "source": [
        "##Tratamento inicial dos dados e retirada dos dados faltantes caso haja"
      ],
      "metadata": {
        "id": "FMlQHpzhIe3k"
      }
    },
    {
      "cell_type": "markdown",
      "source": [
        "Retirando do Data Frame **df_ha** as colunas que eu não considero importantes para o estudo"
      ],
      "metadata": {
        "id": "TGAG2OjzIhUM"
      }
    },
    {
      "cell_type": "code",
      "source": [
        "df_ha.drop(['Country','Continent','Hemisphere','Income','Physical Activity Days Per Week','Patient ID','Sedentary Hours Per Day'],axis = 1, inplace= True)"
      ],
      "metadata": {
        "id": "trmPa2RtIioE"
      },
      "execution_count": 32,
      "outputs": []
    },
    {
      "cell_type": "markdown",
      "source": [
        "Renomeando as colunas do Data Frame"
      ],
      "metadata": {
        "id": "Ep28IcoWIk61"
      }
    },
    {
      "cell_type": "code",
      "source": [
        "df_ha.rename({'Age':'Idade','Sex':'Sexo','Cholesterol':'Colesterol','Blood Pressure':'Pressao Sanguinea','Heart Rate':'Frequencia Cardiaca','Family History':'Historico Familiar','Smoking':'Fumante','Obesity':'Obeso','Alcohol Consumption':'Consome Alcool',\n",
        "              'Exercise Hours Per Week':'Horas de Exercicio Por Semana','Diet':'Estilo de Dieta','Previous Heart Problems':'Problemas Cardiacos Anteriores','Medication Use':'Usa medicamentos','Stress Level':'Nivel de Stress',\n",
        "              'BMI':'IMC','Triglycerides':'Triglicerides','Sleep Hours Per Day':'Horas de Sono Por Dia','Heart Attack Risk':'Risco de Ataque Cardiaco'}, axis = 1, inplace = True)"
      ],
      "metadata": {
        "id": "-tQawdbxIlu8"
      },
      "execution_count": 33,
      "outputs": []
    },
    {
      "cell_type": "markdown",
      "source": [
        "Verificando se há dados faltantes no Data Frame"
      ],
      "metadata": {
        "id": "l9xo98yRIpY8"
      }
    },
    {
      "cell_type": "code",
      "source": [
        "df_ha.isna().sum()"
      ],
      "metadata": {
        "colab": {
          "base_uri": "https://localhost:8080/"
        },
        "id": "4ldPvj1zIpG0",
        "outputId": "278443aa-a17d-4a0b-97b1-f612ac47fad6"
      },
      "execution_count": 34,
      "outputs": [
        {
          "output_type": "execute_result",
          "data": {
            "text/plain": [
              "Idade                             0\n",
              "Sexo                              0\n",
              "Colesterol                        0\n",
              "Pressao Sanguinea                 0\n",
              "Frequencia Cardiaca               0\n",
              "Diabetes                          0\n",
              "Historico Familiar                0\n",
              "Fumante                           0\n",
              "Obeso                             0\n",
              "Consome Alcool                    0\n",
              "Horas de Exercicio Por Semana     0\n",
              "Estilo de Dieta                   0\n",
              "Problemas Cardiacos Anteriores    0\n",
              "Usa medicamentos                  0\n",
              "Nivel de Stress                   0\n",
              "IMC                               0\n",
              "Triglicerides                     0\n",
              "Horas de Sono Por Dia             0\n",
              "Risco de Ataque Cardiaco          0\n",
              "dtype: int64"
            ]
          },
          "metadata": {},
          "execution_count": 34
        }
      ]
    },
    {
      "cell_type": "markdown",
      "source": [
        "Como não há nenhuma coluna faltando dados, nosso Data Frame ficou da seguinte forma"
      ],
      "metadata": {
        "id": "jSOn71rsIsVk"
      }
    },
    {
      "cell_type": "code",
      "source": [
        "df_ha.head()"
      ],
      "metadata": {
        "colab": {
          "base_uri": "https://localhost:8080/",
          "height": 224
        },
        "id": "AZpZ16L4IsvU",
        "outputId": "5c6a1155-0d34-4f2e-99e2-119d34e760fe"
      },
      "execution_count": 35,
      "outputs": [
        {
          "output_type": "execute_result",
          "data": {
            "text/plain": [
              "   Idade    Sexo  Colesterol Pressao Sanguinea  Frequencia Cardiaca  Diabetes  \\\n",
              "0     67    Male         208            158/88                   72         0   \n",
              "1     21    Male         389            165/93                   98         1   \n",
              "2     21  Female         324            174/99                   72         1   \n",
              "3     84    Male         383           163/100                   73         1   \n",
              "4     66    Male         318             91/88                   93         1   \n",
              "\n",
              "   Historico Familiar  Fumante  Obeso  Consome Alcool  \\\n",
              "0                   0        1      0               0   \n",
              "1                   1        1      1               1   \n",
              "2                   0        0      0               0   \n",
              "3                   1        1      0               1   \n",
              "4                   1        1      1               0   \n",
              "\n",
              "   Horas de Exercicio Por Semana Estilo de Dieta  \\\n",
              "0                       4.168189         Average   \n",
              "1                       1.813242       Unhealthy   \n",
              "2                       2.078353         Healthy   \n",
              "3                       9.828130         Average   \n",
              "4                       5.804299       Unhealthy   \n",
              "\n",
              "   Problemas Cardiacos Anteriores  Usa medicamentos  Nivel de Stress  \\\n",
              "0                               0                 0                9   \n",
              "1                               1                 0                1   \n",
              "2                               1                 1                9   \n",
              "3                               1                 0                9   \n",
              "4                               1                 0                6   \n",
              "\n",
              "         IMC  Triglicerides  Horas de Sono Por Dia  Risco de Ataque Cardiaco  \n",
              "0  31.251233            286                      6                         0  \n",
              "1  27.194973            235                      7                         0  \n",
              "2  28.176571            587                      4                         0  \n",
              "3  36.464704            378                      4                         0  \n",
              "4  21.809144            231                      5                         0  "
            ],
            "text/html": [
              "\n",
              "  <div id=\"df-fd598ce5-f22a-47f2-8411-90d9d14c107a\" class=\"colab-df-container\">\n",
              "    <div>\n",
              "<style scoped>\n",
              "    .dataframe tbody tr th:only-of-type {\n",
              "        vertical-align: middle;\n",
              "    }\n",
              "\n",
              "    .dataframe tbody tr th {\n",
              "        vertical-align: top;\n",
              "    }\n",
              "\n",
              "    .dataframe thead th {\n",
              "        text-align: right;\n",
              "    }\n",
              "</style>\n",
              "<table border=\"1\" class=\"dataframe\">\n",
              "  <thead>\n",
              "    <tr style=\"text-align: right;\">\n",
              "      <th></th>\n",
              "      <th>Idade</th>\n",
              "      <th>Sexo</th>\n",
              "      <th>Colesterol</th>\n",
              "      <th>Pressao Sanguinea</th>\n",
              "      <th>Frequencia Cardiaca</th>\n",
              "      <th>Diabetes</th>\n",
              "      <th>Historico Familiar</th>\n",
              "      <th>Fumante</th>\n",
              "      <th>Obeso</th>\n",
              "      <th>Consome Alcool</th>\n",
              "      <th>Horas de Exercicio Por Semana</th>\n",
              "      <th>Estilo de Dieta</th>\n",
              "      <th>Problemas Cardiacos Anteriores</th>\n",
              "      <th>Usa medicamentos</th>\n",
              "      <th>Nivel de Stress</th>\n",
              "      <th>IMC</th>\n",
              "      <th>Triglicerides</th>\n",
              "      <th>Horas de Sono Por Dia</th>\n",
              "      <th>Risco de Ataque Cardiaco</th>\n",
              "    </tr>\n",
              "  </thead>\n",
              "  <tbody>\n",
              "    <tr>\n",
              "      <th>0</th>\n",
              "      <td>67</td>\n",
              "      <td>Male</td>\n",
              "      <td>208</td>\n",
              "      <td>158/88</td>\n",
              "      <td>72</td>\n",
              "      <td>0</td>\n",
              "      <td>0</td>\n",
              "      <td>1</td>\n",
              "      <td>0</td>\n",
              "      <td>0</td>\n",
              "      <td>4.168189</td>\n",
              "      <td>Average</td>\n",
              "      <td>0</td>\n",
              "      <td>0</td>\n",
              "      <td>9</td>\n",
              "      <td>31.251233</td>\n",
              "      <td>286</td>\n",
              "      <td>6</td>\n",
              "      <td>0</td>\n",
              "    </tr>\n",
              "    <tr>\n",
              "      <th>1</th>\n",
              "      <td>21</td>\n",
              "      <td>Male</td>\n",
              "      <td>389</td>\n",
              "      <td>165/93</td>\n",
              "      <td>98</td>\n",
              "      <td>1</td>\n",
              "      <td>1</td>\n",
              "      <td>1</td>\n",
              "      <td>1</td>\n",
              "      <td>1</td>\n",
              "      <td>1.813242</td>\n",
              "      <td>Unhealthy</td>\n",
              "      <td>1</td>\n",
              "      <td>0</td>\n",
              "      <td>1</td>\n",
              "      <td>27.194973</td>\n",
              "      <td>235</td>\n",
              "      <td>7</td>\n",
              "      <td>0</td>\n",
              "    </tr>\n",
              "    <tr>\n",
              "      <th>2</th>\n",
              "      <td>21</td>\n",
              "      <td>Female</td>\n",
              "      <td>324</td>\n",
              "      <td>174/99</td>\n",
              "      <td>72</td>\n",
              "      <td>1</td>\n",
              "      <td>0</td>\n",
              "      <td>0</td>\n",
              "      <td>0</td>\n",
              "      <td>0</td>\n",
              "      <td>2.078353</td>\n",
              "      <td>Healthy</td>\n",
              "      <td>1</td>\n",
              "      <td>1</td>\n",
              "      <td>9</td>\n",
              "      <td>28.176571</td>\n",
              "      <td>587</td>\n",
              "      <td>4</td>\n",
              "      <td>0</td>\n",
              "    </tr>\n",
              "    <tr>\n",
              "      <th>3</th>\n",
              "      <td>84</td>\n",
              "      <td>Male</td>\n",
              "      <td>383</td>\n",
              "      <td>163/100</td>\n",
              "      <td>73</td>\n",
              "      <td>1</td>\n",
              "      <td>1</td>\n",
              "      <td>1</td>\n",
              "      <td>0</td>\n",
              "      <td>1</td>\n",
              "      <td>9.828130</td>\n",
              "      <td>Average</td>\n",
              "      <td>1</td>\n",
              "      <td>0</td>\n",
              "      <td>9</td>\n",
              "      <td>36.464704</td>\n",
              "      <td>378</td>\n",
              "      <td>4</td>\n",
              "      <td>0</td>\n",
              "    </tr>\n",
              "    <tr>\n",
              "      <th>4</th>\n",
              "      <td>66</td>\n",
              "      <td>Male</td>\n",
              "      <td>318</td>\n",
              "      <td>91/88</td>\n",
              "      <td>93</td>\n",
              "      <td>1</td>\n",
              "      <td>1</td>\n",
              "      <td>1</td>\n",
              "      <td>1</td>\n",
              "      <td>0</td>\n",
              "      <td>5.804299</td>\n",
              "      <td>Unhealthy</td>\n",
              "      <td>1</td>\n",
              "      <td>0</td>\n",
              "      <td>6</td>\n",
              "      <td>21.809144</td>\n",
              "      <td>231</td>\n",
              "      <td>5</td>\n",
              "      <td>0</td>\n",
              "    </tr>\n",
              "  </tbody>\n",
              "</table>\n",
              "</div>\n",
              "    <div class=\"colab-df-buttons\">\n",
              "\n",
              "  <div class=\"colab-df-container\">\n",
              "    <button class=\"colab-df-convert\" onclick=\"convertToInteractive('df-fd598ce5-f22a-47f2-8411-90d9d14c107a')\"\n",
              "            title=\"Convert this dataframe to an interactive table.\"\n",
              "            style=\"display:none;\">\n",
              "\n",
              "  <svg xmlns=\"http://www.w3.org/2000/svg\" height=\"24px\" viewBox=\"0 -960 960 960\">\n",
              "    <path d=\"M120-120v-720h720v720H120Zm60-500h600v-160H180v160Zm220 220h160v-160H400v160Zm0 220h160v-160H400v160ZM180-400h160v-160H180v160Zm440 0h160v-160H620v160ZM180-180h160v-160H180v160Zm440 0h160v-160H620v160Z\"/>\n",
              "  </svg>\n",
              "    </button>\n",
              "\n",
              "  <style>\n",
              "    .colab-df-container {\n",
              "      display:flex;\n",
              "      gap: 12px;\n",
              "    }\n",
              "\n",
              "    .colab-df-convert {\n",
              "      background-color: #E8F0FE;\n",
              "      border: none;\n",
              "      border-radius: 50%;\n",
              "      cursor: pointer;\n",
              "      display: none;\n",
              "      fill: #1967D2;\n",
              "      height: 32px;\n",
              "      padding: 0 0 0 0;\n",
              "      width: 32px;\n",
              "    }\n",
              "\n",
              "    .colab-df-convert:hover {\n",
              "      background-color: #E2EBFA;\n",
              "      box-shadow: 0px 1px 2px rgba(60, 64, 67, 0.3), 0px 1px 3px 1px rgba(60, 64, 67, 0.15);\n",
              "      fill: #174EA6;\n",
              "    }\n",
              "\n",
              "    .colab-df-buttons div {\n",
              "      margin-bottom: 4px;\n",
              "    }\n",
              "\n",
              "    [theme=dark] .colab-df-convert {\n",
              "      background-color: #3B4455;\n",
              "      fill: #D2E3FC;\n",
              "    }\n",
              "\n",
              "    [theme=dark] .colab-df-convert:hover {\n",
              "      background-color: #434B5C;\n",
              "      box-shadow: 0px 1px 3px 1px rgba(0, 0, 0, 0.15);\n",
              "      filter: drop-shadow(0px 1px 2px rgba(0, 0, 0, 0.3));\n",
              "      fill: #FFFFFF;\n",
              "    }\n",
              "  </style>\n",
              "\n",
              "    <script>\n",
              "      const buttonEl =\n",
              "        document.querySelector('#df-fd598ce5-f22a-47f2-8411-90d9d14c107a button.colab-df-convert');\n",
              "      buttonEl.style.display =\n",
              "        google.colab.kernel.accessAllowed ? 'block' : 'none';\n",
              "\n",
              "      async function convertToInteractive(key) {\n",
              "        const element = document.querySelector('#df-fd598ce5-f22a-47f2-8411-90d9d14c107a');\n",
              "        const dataTable =\n",
              "          await google.colab.kernel.invokeFunction('convertToInteractive',\n",
              "                                                    [key], {});\n",
              "        if (!dataTable) return;\n",
              "\n",
              "        const docLinkHtml = 'Like what you see? Visit the ' +\n",
              "          '<a target=\"_blank\" href=https://colab.research.google.com/notebooks/data_table.ipynb>data table notebook</a>'\n",
              "          + ' to learn more about interactive tables.';\n",
              "        element.innerHTML = '';\n",
              "        dataTable['output_type'] = 'display_data';\n",
              "        await google.colab.output.renderOutput(dataTable, element);\n",
              "        const docLink = document.createElement('div');\n",
              "        docLink.innerHTML = docLinkHtml;\n",
              "        element.appendChild(docLink);\n",
              "      }\n",
              "    </script>\n",
              "  </div>\n",
              "\n",
              "\n",
              "<div id=\"df-fced892a-e636-43fe-899e-ccbc3fa49399\">\n",
              "  <button class=\"colab-df-quickchart\" onclick=\"quickchart('df-fced892a-e636-43fe-899e-ccbc3fa49399')\"\n",
              "            title=\"Suggest charts\"\n",
              "            style=\"display:none;\">\n",
              "\n",
              "<svg xmlns=\"http://www.w3.org/2000/svg\" height=\"24px\"viewBox=\"0 0 24 24\"\n",
              "     width=\"24px\">\n",
              "    <g>\n",
              "        <path d=\"M19 3H5c-1.1 0-2 .9-2 2v14c0 1.1.9 2 2 2h14c1.1 0 2-.9 2-2V5c0-1.1-.9-2-2-2zM9 17H7v-7h2v7zm4 0h-2V7h2v10zm4 0h-2v-4h2v4z\"/>\n",
              "    </g>\n",
              "</svg>\n",
              "  </button>\n",
              "\n",
              "<style>\n",
              "  .colab-df-quickchart {\n",
              "      --bg-color: #E8F0FE;\n",
              "      --fill-color: #1967D2;\n",
              "      --hover-bg-color: #E2EBFA;\n",
              "      --hover-fill-color: #174EA6;\n",
              "      --disabled-fill-color: #AAA;\n",
              "      --disabled-bg-color: #DDD;\n",
              "  }\n",
              "\n",
              "  [theme=dark] .colab-df-quickchart {\n",
              "      --bg-color: #3B4455;\n",
              "      --fill-color: #D2E3FC;\n",
              "      --hover-bg-color: #434B5C;\n",
              "      --hover-fill-color: #FFFFFF;\n",
              "      --disabled-bg-color: #3B4455;\n",
              "      --disabled-fill-color: #666;\n",
              "  }\n",
              "\n",
              "  .colab-df-quickchart {\n",
              "    background-color: var(--bg-color);\n",
              "    border: none;\n",
              "    border-radius: 50%;\n",
              "    cursor: pointer;\n",
              "    display: none;\n",
              "    fill: var(--fill-color);\n",
              "    height: 32px;\n",
              "    padding: 0;\n",
              "    width: 32px;\n",
              "  }\n",
              "\n",
              "  .colab-df-quickchart:hover {\n",
              "    background-color: var(--hover-bg-color);\n",
              "    box-shadow: 0 1px 2px rgba(60, 64, 67, 0.3), 0 1px 3px 1px rgba(60, 64, 67, 0.15);\n",
              "    fill: var(--button-hover-fill-color);\n",
              "  }\n",
              "\n",
              "  .colab-df-quickchart-complete:disabled,\n",
              "  .colab-df-quickchart-complete:disabled:hover {\n",
              "    background-color: var(--disabled-bg-color);\n",
              "    fill: var(--disabled-fill-color);\n",
              "    box-shadow: none;\n",
              "  }\n",
              "\n",
              "  .colab-df-spinner {\n",
              "    border: 2px solid var(--fill-color);\n",
              "    border-color: transparent;\n",
              "    border-bottom-color: var(--fill-color);\n",
              "    animation:\n",
              "      spin 1s steps(1) infinite;\n",
              "  }\n",
              "\n",
              "  @keyframes spin {\n",
              "    0% {\n",
              "      border-color: transparent;\n",
              "      border-bottom-color: var(--fill-color);\n",
              "      border-left-color: var(--fill-color);\n",
              "    }\n",
              "    20% {\n",
              "      border-color: transparent;\n",
              "      border-left-color: var(--fill-color);\n",
              "      border-top-color: var(--fill-color);\n",
              "    }\n",
              "    30% {\n",
              "      border-color: transparent;\n",
              "      border-left-color: var(--fill-color);\n",
              "      border-top-color: var(--fill-color);\n",
              "      border-right-color: var(--fill-color);\n",
              "    }\n",
              "    40% {\n",
              "      border-color: transparent;\n",
              "      border-right-color: var(--fill-color);\n",
              "      border-top-color: var(--fill-color);\n",
              "    }\n",
              "    60% {\n",
              "      border-color: transparent;\n",
              "      border-right-color: var(--fill-color);\n",
              "    }\n",
              "    80% {\n",
              "      border-color: transparent;\n",
              "      border-right-color: var(--fill-color);\n",
              "      border-bottom-color: var(--fill-color);\n",
              "    }\n",
              "    90% {\n",
              "      border-color: transparent;\n",
              "      border-bottom-color: var(--fill-color);\n",
              "    }\n",
              "  }\n",
              "</style>\n",
              "\n",
              "  <script>\n",
              "    async function quickchart(key) {\n",
              "      const quickchartButtonEl =\n",
              "        document.querySelector('#' + key + ' button');\n",
              "      quickchartButtonEl.disabled = true;  // To prevent multiple clicks.\n",
              "      quickchartButtonEl.classList.add('colab-df-spinner');\n",
              "      try {\n",
              "        const charts = await google.colab.kernel.invokeFunction(\n",
              "            'suggestCharts', [key], {});\n",
              "      } catch (error) {\n",
              "        console.error('Error during call to suggestCharts:', error);\n",
              "      }\n",
              "      quickchartButtonEl.classList.remove('colab-df-spinner');\n",
              "      quickchartButtonEl.classList.add('colab-df-quickchart-complete');\n",
              "    }\n",
              "    (() => {\n",
              "      let quickchartButtonEl =\n",
              "        document.querySelector('#df-fced892a-e636-43fe-899e-ccbc3fa49399 button');\n",
              "      quickchartButtonEl.style.display =\n",
              "        google.colab.kernel.accessAllowed ? 'block' : 'none';\n",
              "    })();\n",
              "  </script>\n",
              "</div>\n",
              "    </div>\n",
              "  </div>\n"
            ]
          },
          "metadata": {},
          "execution_count": 35
        }
      ]
    },
    {
      "cell_type": "markdown",
      "source": [
        "##Agora irei categorizar alguns dados do Data Frame para deixar mais fácil a identificação dos intervalos"
      ],
      "metadata": {
        "id": "5wfquYrxLrOZ"
      }
    },
    {
      "cell_type": "markdown",
      "source": [
        "Transformando os dados de pressão sanguínea em float"
      ],
      "metadata": {
        "id": "n66zopCOLx8j"
      }
    },
    {
      "cell_type": "code",
      "source": [
        "df_ha['Pressao Sanguinea'] = df_ha['Pressao Sanguinea'].str.replace(\"/\",'.')\n",
        "df_ha['Pressao Sanguinea'] = pd.to_numeric(df_ha['Pressao Sanguinea'])"
      ],
      "metadata": {
        "id": "8zLEi6S_LvOY"
      },
      "execution_count": 36,
      "outputs": []
    },
    {
      "cell_type": "markdown",
      "source": [
        "Categorização dos dados de Pressão Sanguínea"
      ],
      "metadata": {
        "id": "7PHmRBEZLzzy"
      }
    },
    {
      "cell_type": "code",
      "source": [
        "df_ha.loc[df_ha['Pressao Sanguinea'] <= 105.60, 'Pressão Arterial'] = 'Baixa'\n",
        "df_ha.loc[(df_ha['Pressao Sanguinea'] > 105.6) & (df_ha['Pressao Sanguinea'] <= 120.8), 'Pressão Arterial'] = 'Ideal'\n",
        "df_ha.loc[(df_ha['Pressao Sanguinea'] > 120.8) & (df_ha['Pressao Sanguinea'] <= 130.85), 'Pressão Arterial'] = 'Normal'\n",
        "df_ha.loc[(df_ha['Pressao Sanguinea'] > 130.85) & (df_ha['Pressao Sanguinea'] <= 140.9), 'Pressão Arterial'] = 'Normal Alta'\n",
        "df_ha.loc[(df_ha['Pressao Sanguinea'] > 140.9) & (df_ha['Pressao Sanguinea'] <= 160.1), 'Pressão Arterial'] = 'Hipertensão Grau 1'\n",
        "df_ha.loc[(df_ha['Pressao Sanguinea'] > 160.1) & (df_ha['Pressao Sanguinea'] <= 180.11), 'Pressão Arterial'] = 'Hipertensão Grau 2'\n",
        "df_ha.loc[df_ha['Pressao Sanguinea'] > 180.11, 'Pressão Arterial'] = 'Crise Hipertensiva'"
      ],
      "metadata": {
        "id": "kYMqqa45L0F7"
      },
      "execution_count": 37,
      "outputs": []
    },
    {
      "cell_type": "markdown",
      "source": [
        "Categorização dos dados de Nivel de Colesterol"
      ],
      "metadata": {
        "id": "XvoO4BCkL3pE"
      }
    },
    {
      "cell_type": "code",
      "source": [
        "df_ha.loc[df_ha['Colesterol'] <= 200, 'Nivel Colesterol'] = 'Normal'\n",
        "df_ha.loc[(df_ha['Colesterol'] > 200) & (df_ha['Colesterol'] <= 239), 'Nivel Colesterol'] = 'Limítrofe'\n",
        "df_ha.loc[df_ha['Colesterol'] >= 200, 'Nivel Colesterol'] = 'Alto'"
      ],
      "metadata": {
        "id": "giSCzcrLL3-L"
      },
      "execution_count": 38,
      "outputs": []
    },
    {
      "cell_type": "markdown",
      "source": [
        "Categorização dos dados de Nivel de Triglicerides"
      ],
      "metadata": {
        "id": "1K4I8p2hL7OD"
      }
    },
    {
      "cell_type": "code",
      "source": [
        "df_ha.loc[df_ha['Triglicerides'] <= 150, 'Nível Triglicerides'] = 'Normal'\n",
        "df_ha.loc[(df_ha['Triglicerides'] > 150) & (df_ha['Triglicerides'] <= 199), 'Nível Triglicerides'] = 'Limítrofe'\n",
        "df_ha.loc[(df_ha['Triglicerides'] >= 200) & (df_ha['Triglicerides'] <= 499), 'Nível Triglicerides'] = 'Alto'\n",
        "df_ha.loc[df_ha['Triglicerides'] >= 500, 'Nível Triglicerides'] = 'Muito Alto'"
      ],
      "metadata": {
        "id": "XCNe1HbPL7d7"
      },
      "execution_count": 39,
      "outputs": []
    },
    {
      "cell_type": "markdown",
      "source": [
        "Categorização do IMC"
      ],
      "metadata": {
        "id": "0P5NFqfGL_1c"
      }
    },
    {
      "cell_type": "code",
      "source": [
        "df_ha.loc[df_ha['IMC'] <= 18.5, 'Classificação IMC'] = 'Abaixo'\n",
        "df_ha.loc[(df_ha['IMC'] > 18.5) & (df_ha['IMC'] <= 24.9), 'Classificação IMC'] = 'Ideal'\n",
        "df_ha.loc[(df_ha['IMC'] >= 25) & (df_ha['IMC'] <= 29.9), 'Classificação IMC'] = 'Acima'\n",
        "df_ha.loc[(df_ha['IMC'] >= 30) & (df_ha['IMC'] <= 34.9), 'Classificação IMC'] = 'Obesidade'\n",
        "df_ha.loc[(df_ha['IMC'] >= 35) & (df_ha['IMC'] <= 39.9), 'Classificação IMC'] = 'Obesidade Severa'\n",
        "df_ha.loc[df_ha['IMC'] >= 40, 'Classificação IMC'] = 'Obesidade Morbida'"
      ],
      "metadata": {
        "id": "fFSZkaHMMAVD"
      },
      "execution_count": 40,
      "outputs": []
    },
    {
      "cell_type": "markdown",
      "source": [
        "Categorização da Idade"
      ],
      "metadata": {
        "id": "V4p8e4qnMB7E"
      }
    },
    {
      "cell_type": "code",
      "source": [
        "df_ha.loc[(df_ha['Idade'] >= 18) & (df_ha['Idade'] <= 30), 'Idade_cat'] = '18 a 30'\n",
        "df_ha.loc[(df_ha['Idade'] > 30) & (df_ha['Idade'] <= 54), 'Idade_cat'] = '31 a 54'\n",
        "df_ha.loc[(df_ha['Idade'] > 54) & (df_ha['Idade'] <= 70), 'Idade_cat'] = '55 a 70'\n",
        "df_ha.loc[df_ha['Idade'] > 70, 'Idade_cat'] = '70 +'"
      ],
      "metadata": {
        "id": "IiuhiKelMDdL"
      },
      "execution_count": 41,
      "outputs": []
    },
    {
      "cell_type": "markdown",
      "source": [
        "Categorização da Frequência Cardiaca"
      ],
      "metadata": {
        "id": "yeI4KoZfMFYL"
      }
    },
    {
      "cell_type": "code",
      "source": [
        "df_ha.loc[df_ha['Frequencia Cardiaca'] <= 69, 'Frequencia Car'] = 'Otima'\n",
        "df_ha.loc[(df_ha['Frequencia Cardiaca'] > 69) & (df_ha['Frequencia Cardiaca'] <= 76), 'Frequencia Car'] = 'Normal'\n",
        "df_ha.loc[(df_ha['Frequencia Cardiaca'] > 76) & (df_ha['Frequencia Cardiaca'] <= 83), 'Frequencia Car'] = 'Limitrofe'\n",
        "df_ha.loc[df_ha['Frequencia Cardiaca'] > 84, 'Frequencia Car'] = 'Ruim'"
      ],
      "metadata": {
        "id": "OwHlTdrvME37"
      },
      "execution_count": 42,
      "outputs": []
    },
    {
      "cell_type": "markdown",
      "source": [
        "Categorização das Horas de Exercicio Por Semana"
      ],
      "metadata": {
        "id": "VRMV-drMMIAz"
      }
    },
    {
      "cell_type": "code",
      "source": [
        "df_ha.loc[df_ha['Horas de Exercicio Por Semana'] <= 2.5, 'Exercicios Semana'] = 'Pouco'\n",
        "df_ha.loc[(df_ha['Horas de Exercicio Por Semana'] > 2.5) & (df_ha['Horas de Exercicio Por Semana'] <= 6), 'Exercicios Semana'] = 'Ideal'\n",
        "df_ha.loc[df_ha['Horas de Exercicio Por Semana'] > 6, 'Exercicios Semana'] = 'Otimo'"
      ],
      "metadata": {
        "id": "4JB4h-USMJRT"
      },
      "execution_count": 43,
      "outputs": []
    },
    {
      "cell_type": "markdown",
      "source": [
        "Transformando a coluna Sexo em valores Booleanos"
      ],
      "metadata": {
        "id": "Xp30AaQOMKwz"
      }
    },
    {
      "cell_type": "code",
      "source": [
        "df_ha['Sexo'] = df_ha['Sexo'].str.replace('Male','1')\n",
        "df_ha['Sexo'] = df_ha['Sexo'].str.replace('Female','0')\n",
        "df_ha['Sexo'] = pd.to_numeric(df_ha['Sexo'])"
      ],
      "metadata": {
        "id": "TECnU8BiMLzr"
      },
      "execution_count": 44,
      "outputs": []
    },
    {
      "cell_type": "markdown",
      "source": [
        "Retirando as colunas que foram categorizadas"
      ],
      "metadata": {
        "id": "mf-jl4RWMNIV"
      }
    },
    {
      "cell_type": "code",
      "source": [
        "df_ha.drop(['Colesterol','Pressao Sanguinea','Triglicerides','IMC','Idade','Frequencia Cardiaca','Horas de Exercicio Por Semana'],axis = 1, inplace= True)"
      ],
      "metadata": {
        "id": "CQSwip11MPGb"
      },
      "execution_count": 45,
      "outputs": []
    },
    {
      "cell_type": "markdown",
      "source": [
        "Assim ficou o Data Frame depois de categorizado"
      ],
      "metadata": {
        "id": "2_BPTmgsMRjM"
      }
    },
    {
      "cell_type": "code",
      "source": [
        "df_ha.head()"
      ],
      "metadata": {
        "id": "quVJUC5eMTeb",
        "outputId": "4b9f6f52-d2f0-4a5e-ec16-f6ee9a26eed4",
        "colab": {
          "base_uri": "https://localhost:8080/",
          "height": 311
        }
      },
      "execution_count": 46,
      "outputs": [
        {
          "output_type": "execute_result",
          "data": {
            "text/plain": [
              "   Sexo  Diabetes  Historico Familiar  Fumante  Obeso  Consome Alcool  \\\n",
              "0     1         0                   0        1      0               0   \n",
              "1     1         1                   1        1      1               1   \n",
              "2     0         1                   0        0      0               0   \n",
              "3     1         1                   1        1      0               1   \n",
              "4     1         1                   1        1      1               0   \n",
              "\n",
              "  Estilo de Dieta  Problemas Cardiacos Anteriores  Usa medicamentos  \\\n",
              "0         Average                               0                 0   \n",
              "1       Unhealthy                               1                 0   \n",
              "2         Healthy                               1                 1   \n",
              "3         Average                               1                 0   \n",
              "4       Unhealthy                               1                 0   \n",
              "\n",
              "   Nivel de Stress  Horas de Sono Por Dia  Risco de Ataque Cardiaco  \\\n",
              "0                9                      6                         0   \n",
              "1                1                      7                         0   \n",
              "2                9                      4                         0   \n",
              "3                9                      4                         0   \n",
              "4                6                      5                         0   \n",
              "\n",
              "     Pressão Arterial Nivel Colesterol Nível Triglicerides Classificação IMC  \\\n",
              "0  Hipertensão Grau 1             Alto                Alto         Obesidade   \n",
              "1  Hipertensão Grau 2             Alto                Alto             Acima   \n",
              "2  Hipertensão Grau 2             Alto          Muito Alto             Acima   \n",
              "3  Hipertensão Grau 2             Alto                Alto  Obesidade Severa   \n",
              "4               Baixa             Alto                Alto             Ideal   \n",
              "\n",
              "  Idade_cat Frequencia Car Exercicios Semana  \n",
              "0   55 a 70         Normal             Ideal  \n",
              "1   18 a 30           Ruim             Pouco  \n",
              "2   18 a 30         Normal             Pouco  \n",
              "3      70 +         Normal             Otimo  \n",
              "4   55 a 70           Ruim             Ideal  "
            ],
            "text/html": [
              "\n",
              "  <div id=\"df-b4d31476-bfda-457b-b69c-941969061c62\" class=\"colab-df-container\">\n",
              "    <div>\n",
              "<style scoped>\n",
              "    .dataframe tbody tr th:only-of-type {\n",
              "        vertical-align: middle;\n",
              "    }\n",
              "\n",
              "    .dataframe tbody tr th {\n",
              "        vertical-align: top;\n",
              "    }\n",
              "\n",
              "    .dataframe thead th {\n",
              "        text-align: right;\n",
              "    }\n",
              "</style>\n",
              "<table border=\"1\" class=\"dataframe\">\n",
              "  <thead>\n",
              "    <tr style=\"text-align: right;\">\n",
              "      <th></th>\n",
              "      <th>Sexo</th>\n",
              "      <th>Diabetes</th>\n",
              "      <th>Historico Familiar</th>\n",
              "      <th>Fumante</th>\n",
              "      <th>Obeso</th>\n",
              "      <th>Consome Alcool</th>\n",
              "      <th>Estilo de Dieta</th>\n",
              "      <th>Problemas Cardiacos Anteriores</th>\n",
              "      <th>Usa medicamentos</th>\n",
              "      <th>Nivel de Stress</th>\n",
              "      <th>Horas de Sono Por Dia</th>\n",
              "      <th>Risco de Ataque Cardiaco</th>\n",
              "      <th>Pressão Arterial</th>\n",
              "      <th>Nivel Colesterol</th>\n",
              "      <th>Nível Triglicerides</th>\n",
              "      <th>Classificação IMC</th>\n",
              "      <th>Idade_cat</th>\n",
              "      <th>Frequencia Car</th>\n",
              "      <th>Exercicios Semana</th>\n",
              "    </tr>\n",
              "  </thead>\n",
              "  <tbody>\n",
              "    <tr>\n",
              "      <th>0</th>\n",
              "      <td>1</td>\n",
              "      <td>0</td>\n",
              "      <td>0</td>\n",
              "      <td>1</td>\n",
              "      <td>0</td>\n",
              "      <td>0</td>\n",
              "      <td>Average</td>\n",
              "      <td>0</td>\n",
              "      <td>0</td>\n",
              "      <td>9</td>\n",
              "      <td>6</td>\n",
              "      <td>0</td>\n",
              "      <td>Hipertensão Grau 1</td>\n",
              "      <td>Alto</td>\n",
              "      <td>Alto</td>\n",
              "      <td>Obesidade</td>\n",
              "      <td>55 a 70</td>\n",
              "      <td>Normal</td>\n",
              "      <td>Ideal</td>\n",
              "    </tr>\n",
              "    <tr>\n",
              "      <th>1</th>\n",
              "      <td>1</td>\n",
              "      <td>1</td>\n",
              "      <td>1</td>\n",
              "      <td>1</td>\n",
              "      <td>1</td>\n",
              "      <td>1</td>\n",
              "      <td>Unhealthy</td>\n",
              "      <td>1</td>\n",
              "      <td>0</td>\n",
              "      <td>1</td>\n",
              "      <td>7</td>\n",
              "      <td>0</td>\n",
              "      <td>Hipertensão Grau 2</td>\n",
              "      <td>Alto</td>\n",
              "      <td>Alto</td>\n",
              "      <td>Acima</td>\n",
              "      <td>18 a 30</td>\n",
              "      <td>Ruim</td>\n",
              "      <td>Pouco</td>\n",
              "    </tr>\n",
              "    <tr>\n",
              "      <th>2</th>\n",
              "      <td>0</td>\n",
              "      <td>1</td>\n",
              "      <td>0</td>\n",
              "      <td>0</td>\n",
              "      <td>0</td>\n",
              "      <td>0</td>\n",
              "      <td>Healthy</td>\n",
              "      <td>1</td>\n",
              "      <td>1</td>\n",
              "      <td>9</td>\n",
              "      <td>4</td>\n",
              "      <td>0</td>\n",
              "      <td>Hipertensão Grau 2</td>\n",
              "      <td>Alto</td>\n",
              "      <td>Muito Alto</td>\n",
              "      <td>Acima</td>\n",
              "      <td>18 a 30</td>\n",
              "      <td>Normal</td>\n",
              "      <td>Pouco</td>\n",
              "    </tr>\n",
              "    <tr>\n",
              "      <th>3</th>\n",
              "      <td>1</td>\n",
              "      <td>1</td>\n",
              "      <td>1</td>\n",
              "      <td>1</td>\n",
              "      <td>0</td>\n",
              "      <td>1</td>\n",
              "      <td>Average</td>\n",
              "      <td>1</td>\n",
              "      <td>0</td>\n",
              "      <td>9</td>\n",
              "      <td>4</td>\n",
              "      <td>0</td>\n",
              "      <td>Hipertensão Grau 2</td>\n",
              "      <td>Alto</td>\n",
              "      <td>Alto</td>\n",
              "      <td>Obesidade Severa</td>\n",
              "      <td>70 +</td>\n",
              "      <td>Normal</td>\n",
              "      <td>Otimo</td>\n",
              "    </tr>\n",
              "    <tr>\n",
              "      <th>4</th>\n",
              "      <td>1</td>\n",
              "      <td>1</td>\n",
              "      <td>1</td>\n",
              "      <td>1</td>\n",
              "      <td>1</td>\n",
              "      <td>0</td>\n",
              "      <td>Unhealthy</td>\n",
              "      <td>1</td>\n",
              "      <td>0</td>\n",
              "      <td>6</td>\n",
              "      <td>5</td>\n",
              "      <td>0</td>\n",
              "      <td>Baixa</td>\n",
              "      <td>Alto</td>\n",
              "      <td>Alto</td>\n",
              "      <td>Ideal</td>\n",
              "      <td>55 a 70</td>\n",
              "      <td>Ruim</td>\n",
              "      <td>Ideal</td>\n",
              "    </tr>\n",
              "  </tbody>\n",
              "</table>\n",
              "</div>\n",
              "    <div class=\"colab-df-buttons\">\n",
              "\n",
              "  <div class=\"colab-df-container\">\n",
              "    <button class=\"colab-df-convert\" onclick=\"convertToInteractive('df-b4d31476-bfda-457b-b69c-941969061c62')\"\n",
              "            title=\"Convert this dataframe to an interactive table.\"\n",
              "            style=\"display:none;\">\n",
              "\n",
              "  <svg xmlns=\"http://www.w3.org/2000/svg\" height=\"24px\" viewBox=\"0 -960 960 960\">\n",
              "    <path d=\"M120-120v-720h720v720H120Zm60-500h600v-160H180v160Zm220 220h160v-160H400v160Zm0 220h160v-160H400v160ZM180-400h160v-160H180v160Zm440 0h160v-160H620v160ZM180-180h160v-160H180v160Zm440 0h160v-160H620v160Z\"/>\n",
              "  </svg>\n",
              "    </button>\n",
              "\n",
              "  <style>\n",
              "    .colab-df-container {\n",
              "      display:flex;\n",
              "      gap: 12px;\n",
              "    }\n",
              "\n",
              "    .colab-df-convert {\n",
              "      background-color: #E8F0FE;\n",
              "      border: none;\n",
              "      border-radius: 50%;\n",
              "      cursor: pointer;\n",
              "      display: none;\n",
              "      fill: #1967D2;\n",
              "      height: 32px;\n",
              "      padding: 0 0 0 0;\n",
              "      width: 32px;\n",
              "    }\n",
              "\n",
              "    .colab-df-convert:hover {\n",
              "      background-color: #E2EBFA;\n",
              "      box-shadow: 0px 1px 2px rgba(60, 64, 67, 0.3), 0px 1px 3px 1px rgba(60, 64, 67, 0.15);\n",
              "      fill: #174EA6;\n",
              "    }\n",
              "\n",
              "    .colab-df-buttons div {\n",
              "      margin-bottom: 4px;\n",
              "    }\n",
              "\n",
              "    [theme=dark] .colab-df-convert {\n",
              "      background-color: #3B4455;\n",
              "      fill: #D2E3FC;\n",
              "    }\n",
              "\n",
              "    [theme=dark] .colab-df-convert:hover {\n",
              "      background-color: #434B5C;\n",
              "      box-shadow: 0px 1px 3px 1px rgba(0, 0, 0, 0.15);\n",
              "      filter: drop-shadow(0px 1px 2px rgba(0, 0, 0, 0.3));\n",
              "      fill: #FFFFFF;\n",
              "    }\n",
              "  </style>\n",
              "\n",
              "    <script>\n",
              "      const buttonEl =\n",
              "        document.querySelector('#df-b4d31476-bfda-457b-b69c-941969061c62 button.colab-df-convert');\n",
              "      buttonEl.style.display =\n",
              "        google.colab.kernel.accessAllowed ? 'block' : 'none';\n",
              "\n",
              "      async function convertToInteractive(key) {\n",
              "        const element = document.querySelector('#df-b4d31476-bfda-457b-b69c-941969061c62');\n",
              "        const dataTable =\n",
              "          await google.colab.kernel.invokeFunction('convertToInteractive',\n",
              "                                                    [key], {});\n",
              "        if (!dataTable) return;\n",
              "\n",
              "        const docLinkHtml = 'Like what you see? Visit the ' +\n",
              "          '<a target=\"_blank\" href=https://colab.research.google.com/notebooks/data_table.ipynb>data table notebook</a>'\n",
              "          + ' to learn more about interactive tables.';\n",
              "        element.innerHTML = '';\n",
              "        dataTable['output_type'] = 'display_data';\n",
              "        await google.colab.output.renderOutput(dataTable, element);\n",
              "        const docLink = document.createElement('div');\n",
              "        docLink.innerHTML = docLinkHtml;\n",
              "        element.appendChild(docLink);\n",
              "      }\n",
              "    </script>\n",
              "  </div>\n",
              "\n",
              "\n",
              "<div id=\"df-7fa62b64-5984-42b5-97f9-da65125536a7\">\n",
              "  <button class=\"colab-df-quickchart\" onclick=\"quickchart('df-7fa62b64-5984-42b5-97f9-da65125536a7')\"\n",
              "            title=\"Suggest charts\"\n",
              "            style=\"display:none;\">\n",
              "\n",
              "<svg xmlns=\"http://www.w3.org/2000/svg\" height=\"24px\"viewBox=\"0 0 24 24\"\n",
              "     width=\"24px\">\n",
              "    <g>\n",
              "        <path d=\"M19 3H5c-1.1 0-2 .9-2 2v14c0 1.1.9 2 2 2h14c1.1 0 2-.9 2-2V5c0-1.1-.9-2-2-2zM9 17H7v-7h2v7zm4 0h-2V7h2v10zm4 0h-2v-4h2v4z\"/>\n",
              "    </g>\n",
              "</svg>\n",
              "  </button>\n",
              "\n",
              "<style>\n",
              "  .colab-df-quickchart {\n",
              "      --bg-color: #E8F0FE;\n",
              "      --fill-color: #1967D2;\n",
              "      --hover-bg-color: #E2EBFA;\n",
              "      --hover-fill-color: #174EA6;\n",
              "      --disabled-fill-color: #AAA;\n",
              "      --disabled-bg-color: #DDD;\n",
              "  }\n",
              "\n",
              "  [theme=dark] .colab-df-quickchart {\n",
              "      --bg-color: #3B4455;\n",
              "      --fill-color: #D2E3FC;\n",
              "      --hover-bg-color: #434B5C;\n",
              "      --hover-fill-color: #FFFFFF;\n",
              "      --disabled-bg-color: #3B4455;\n",
              "      --disabled-fill-color: #666;\n",
              "  }\n",
              "\n",
              "  .colab-df-quickchart {\n",
              "    background-color: var(--bg-color);\n",
              "    border: none;\n",
              "    border-radius: 50%;\n",
              "    cursor: pointer;\n",
              "    display: none;\n",
              "    fill: var(--fill-color);\n",
              "    height: 32px;\n",
              "    padding: 0;\n",
              "    width: 32px;\n",
              "  }\n",
              "\n",
              "  .colab-df-quickchart:hover {\n",
              "    background-color: var(--hover-bg-color);\n",
              "    box-shadow: 0 1px 2px rgba(60, 64, 67, 0.3), 0 1px 3px 1px rgba(60, 64, 67, 0.15);\n",
              "    fill: var(--button-hover-fill-color);\n",
              "  }\n",
              "\n",
              "  .colab-df-quickchart-complete:disabled,\n",
              "  .colab-df-quickchart-complete:disabled:hover {\n",
              "    background-color: var(--disabled-bg-color);\n",
              "    fill: var(--disabled-fill-color);\n",
              "    box-shadow: none;\n",
              "  }\n",
              "\n",
              "  .colab-df-spinner {\n",
              "    border: 2px solid var(--fill-color);\n",
              "    border-color: transparent;\n",
              "    border-bottom-color: var(--fill-color);\n",
              "    animation:\n",
              "      spin 1s steps(1) infinite;\n",
              "  }\n",
              "\n",
              "  @keyframes spin {\n",
              "    0% {\n",
              "      border-color: transparent;\n",
              "      border-bottom-color: var(--fill-color);\n",
              "      border-left-color: var(--fill-color);\n",
              "    }\n",
              "    20% {\n",
              "      border-color: transparent;\n",
              "      border-left-color: var(--fill-color);\n",
              "      border-top-color: var(--fill-color);\n",
              "    }\n",
              "    30% {\n",
              "      border-color: transparent;\n",
              "      border-left-color: var(--fill-color);\n",
              "      border-top-color: var(--fill-color);\n",
              "      border-right-color: var(--fill-color);\n",
              "    }\n",
              "    40% {\n",
              "      border-color: transparent;\n",
              "      border-right-color: var(--fill-color);\n",
              "      border-top-color: var(--fill-color);\n",
              "    }\n",
              "    60% {\n",
              "      border-color: transparent;\n",
              "      border-right-color: var(--fill-color);\n",
              "    }\n",
              "    80% {\n",
              "      border-color: transparent;\n",
              "      border-right-color: var(--fill-color);\n",
              "      border-bottom-color: var(--fill-color);\n",
              "    }\n",
              "    90% {\n",
              "      border-color: transparent;\n",
              "      border-bottom-color: var(--fill-color);\n",
              "    }\n",
              "  }\n",
              "</style>\n",
              "\n",
              "  <script>\n",
              "    async function quickchart(key) {\n",
              "      const quickchartButtonEl =\n",
              "        document.querySelector('#' + key + ' button');\n",
              "      quickchartButtonEl.disabled = true;  // To prevent multiple clicks.\n",
              "      quickchartButtonEl.classList.add('colab-df-spinner');\n",
              "      try {\n",
              "        const charts = await google.colab.kernel.invokeFunction(\n",
              "            'suggestCharts', [key], {});\n",
              "      } catch (error) {\n",
              "        console.error('Error during call to suggestCharts:', error);\n",
              "      }\n",
              "      quickchartButtonEl.classList.remove('colab-df-spinner');\n",
              "      quickchartButtonEl.classList.add('colab-df-quickchart-complete');\n",
              "    }\n",
              "    (() => {\n",
              "      let quickchartButtonEl =\n",
              "        document.querySelector('#df-7fa62b64-5984-42b5-97f9-da65125536a7 button');\n",
              "      quickchartButtonEl.style.display =\n",
              "        google.colab.kernel.accessAllowed ? 'block' : 'none';\n",
              "    })();\n",
              "  </script>\n",
              "</div>\n",
              "    </div>\n",
              "  </div>\n"
            ]
          },
          "metadata": {},
          "execution_count": 46
        }
      ]
    }
  ]
}